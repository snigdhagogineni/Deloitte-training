{
 "cells": [
  {
   "cell_type": "code",
   "execution_count": 1,
   "metadata": {},
   "outputs": [],
   "source": [
    "import findspark\n",
    "findspark.init('/usr/local/spark')\n",
    "import pyspark"
   ]
  },
  {
   "cell_type": "code",
   "execution_count": 2,
   "metadata": {},
   "outputs": [],
   "source": [
    "from pyspark.sql import SparkSession\n",
    "spark = SparkSession.builder.appName(\"ETL Case Study\").getOrCreate()"
   ]
  },
  {
   "cell_type": "markdown",
   "metadata": {},
   "source": [
    "### Reading the datasets into spark dataframes and assigning column names as per data dictionary"
   ]
  },
  {
   "cell_type": "code",
   "execution_count": 3,
   "metadata": {},
   "outputs": [
    {
     "name": "stdout",
     "output_type": "stream",
     "text": [
      "root\n",
      " |-- _c0: string (nullable = true)\n",
      " |-- _c1: string (nullable = true)\n",
      " |-- _c2: string (nullable = true)\n",
      " |-- _c3: double (nullable = true)\n",
      " |-- _c4: double (nullable = true)\n",
      " |-- _c5: double (nullable = true)\n",
      " |-- _c6: double (nullable = true)\n",
      " |-- _c7: integer (nullable = true)\n",
      " |-- _c8: double (nullable = true)\n",
      "\n"
     ]
    }
   ],
   "source": [
    "df1 = spark.read.load(\"NYSE_daily.tsv\", format=\"csv\", sep=\"\\t\", inferSchema=\"true\")\n",
    "df1.printSchema()"
   ]
  },
  {
   "cell_type": "code",
   "execution_count": 4,
   "metadata": {},
   "outputs": [],
   "source": [
    "cols = [\"exchange\", \"stock_symbol\", \"date\", \"open_price\", \"high_price\", \"low_price\", \"close_price\", \"volume\",\"adjusted_close\",\"price\"]"
   ]
  },
  {
   "cell_type": "code",
   "execution_count": 5,
   "metadata": {},
   "outputs": [],
   "source": [
    "daily_df = df1 \n",
    "for i in range(len(cols)):\n",
    "    c = \"_c\"+str(i)\n",
    "#     print(c)\n",
    "    daily_df = daily_df.withColumnRenamed(c, cols[i])\n",
    "#     daily_df.printSchema()"
   ]
  },
  {
   "cell_type": "markdown",
   "metadata": {},
   "source": [
    "### Print schema"
   ]
  },
  {
   "cell_type": "code",
   "execution_count": 6,
   "metadata": {},
   "outputs": [
    {
     "name": "stdout",
     "output_type": "stream",
     "text": [
      "root\n",
      " |-- exchange: string (nullable = true)\n",
      " |-- stock_symbol: string (nullable = true)\n",
      " |-- date: string (nullable = true)\n",
      " |-- open_price: double (nullable = true)\n",
      " |-- high_price: double (nullable = true)\n",
      " |-- low_price: double (nullable = true)\n",
      " |-- close_price: double (nullable = true)\n",
      " |-- volume: integer (nullable = true)\n",
      " |-- adjusted_close: double (nullable = true)\n",
      "\n"
     ]
    }
   ],
   "source": [
    "daily_df.printSchema()"
   ]
  },
  {
   "cell_type": "markdown",
   "metadata": {},
   "source": [
    "### Show top 10 rows"
   ]
  },
  {
   "cell_type": "code",
   "execution_count": 7,
   "metadata": {},
   "outputs": [
    {
     "name": "stdout",
     "output_type": "stream",
     "text": [
      "+--------+------------+---------+----------+----------+---------+-----------+-------+--------------+\n",
      "|exchange|stock_symbol|     date|open_price|high_price|low_price|close_price| volume|adjusted_close|\n",
      "+--------+------------+---------+----------+----------+---------+-----------+-------+--------------+\n",
      "|    NYSE|         JEF| 2/8/2010|      25.4|     25.49|    24.78|      24.82|1134300|         24.82|\n",
      "|    NYSE|         JEF| 2/5/2010|     24.91|     25.19|    24.08|      25.01|1765200|         25.01|\n",
      "|    NYSE|         JEF| 2/4/2010|     26.01|      26.2|    24.85|      24.85|1414400|         24.85|\n",
      "|    NYSE|         JEF| 2/3/2010|     26.23|     26.76|    26.22|      26.29|1066000|         26.29|\n",
      "|    NYSE|         JEF| 2/2/2010|     26.08|     26.86|    25.78|      26.46|1496400|         26.46|\n",
      "|    NYSE|         JEF| 2/1/2010|     25.61|     26.11|    25.36|      26.11|2381800|         26.11|\n",
      "|    NYSE|         JEF|1/29/2010|     26.57|      26.8|    25.41|      25.54|2010000|         25.54|\n",
      "|    NYSE|         JEF|1/28/2010|      27.4|      27.4|    26.35|      26.36|1708100|         26.36|\n",
      "|    NYSE|         JEF|1/27/2010|     26.44|     27.15|    26.42|      27.14|1929700|         27.14|\n",
      "|    NYSE|         JEF|1/26/2010|     26.68|     26.99|    26.46|       26.5|1422100|          26.5|\n",
      "+--------+------------+---------+----------+----------+---------+-----------+-------+--------------+\n",
      "only showing top 10 rows\n",
      "\n"
     ]
    }
   ],
   "source": [
    "daily_df.show(10)"
   ]
  },
  {
   "cell_type": "code",
   "execution_count": 8,
   "metadata": {},
   "outputs": [
    {
     "name": "stdout",
     "output_type": "stream",
     "text": [
      "root\n",
      " |-- _c0: string (nullable = true)\n",
      " |-- _c1: string (nullable = true)\n",
      " |-- _c2: string (nullable = true)\n",
      " |-- _c3: double (nullable = true)\n",
      "\n"
     ]
    }
   ],
   "source": [
    "df2 = spark.read.load(\"NYSE_dividends.tsv\", format=\"csv\", sep=\"\\t\", inferSchema=\"True\")\n",
    "df2.printSchema()"
   ]
  },
  {
   "cell_type": "code",
   "execution_count": 9,
   "metadata": {},
   "outputs": [],
   "source": [
    "cols2 = ['exchange', 'stock_symbol','date', 'dividends']"
   ]
  },
  {
   "cell_type": "code",
   "execution_count": 10,
   "metadata": {},
   "outputs": [],
   "source": [
    "div_df = df2\n",
    "for i in range(len(cols2)):\n",
    "    c = \"_c\"+str(i)\n",
    "#     print(c)\n",
    "    div_df = div_df.withColumnRenamed(c, cols2[i])\n",
    "#     daily_df.printSchema()"
   ]
  },
  {
   "cell_type": "code",
   "execution_count": 11,
   "metadata": {},
   "outputs": [
    {
     "name": "stdout",
     "output_type": "stream",
     "text": [
      "+--------+------------+----------+---------+\n",
      "|exchange|stock_symbol|      date|dividends|\n",
      "+--------+------------+----------+---------+\n",
      "|    NYSE|         JAH|12/30/2009|    0.075|\n",
      "|    NYSE|         JAH| 9/29/2009|    0.075|\n",
      "|    NYSE|         JGT|12/11/2009|    0.377|\n",
      "|    NYSE|         JGT| 9/11/2009|    0.377|\n",
      "|    NYSE|         JGT| 6/11/2009|    0.377|\n",
      "|    NYSE|         JGT| 3/11/2009|    0.377|\n",
      "|    NYSE|         JGT|12/11/2008|    0.377|\n",
      "|    NYSE|         JGT| 9/11/2008|    0.451|\n",
      "|    NYSE|         JGT| 6/11/2008|    0.451|\n",
      "|    NYSE|         JGT| 3/12/2008|    0.451|\n",
      "+--------+------------+----------+---------+\n",
      "only showing top 10 rows\n",
      "\n"
     ]
    }
   ],
   "source": [
    "div_df.show(10)"
   ]
  },
  {
   "cell_type": "markdown",
   "metadata": {},
   "source": [
    "### Creating template view from dataframe"
   ]
  },
  {
   "cell_type": "code",
   "execution_count": 12,
   "metadata": {},
   "outputs": [],
   "source": [
    "daily_df.createOrReplaceTempView(\"daily\")\n",
    "div_df.createOrReplaceTempView(\"div\")"
   ]
  },
  {
   "cell_type": "markdown",
   "metadata": {},
   "source": [
    "### 1. List the companies which have the stock close price more than or equal to 200 and stock volume more than or equal to 10 million."
   ]
  },
  {
   "cell_type": "code",
   "execution_count": 13,
   "metadata": {},
   "outputs": [
    {
     "name": "stdout",
     "output_type": "stream",
     "text": [
      "+--------+------------+----------+----------+----------+---------+-----------+--------+--------------+\n",
      "|exchange|stock_symbol|      date|open_price|high_price|low_price|close_price|  volume|adjusted_close|\n",
      "+--------+------------+----------+----------+----------+---------+-----------+--------+--------------+\n",
      "|    NYSE|        JNPR| 11/3/2000|     198.0|    216.88|   196.25|     216.13|13424800|        216.13|\n",
      "|    NYSE|        JNPR|10/19/2000|    229.13|    234.31|    220.0|     232.58|11323800|        232.58|\n",
      "|    NYSE|        JNPR|10/18/2000|    219.38|     235.0|    212.5|     213.88|15463100|        213.88|\n",
      "|    NYSE|        JNPR|10/17/2000|    241.75|    241.81|    224.0|     229.19|16734200|        229.19|\n",
      "|    NYSE|        JNPR|10/16/2000|    226.75|     244.5|    224.0|      243.0|17288400|         243.0|\n",
      "|    NYSE|        JNPR|10/13/2000|    201.75|     229.5|   201.63|      228.5|19565000|         228.5|\n",
      "|    NYSE|        JNPR|10/11/2000|     201.5|    219.44|   196.19|      206.0|16487000|         206.0|\n",
      "|    NYSE|        JNPR|10/10/2000|     196.5|     211.0|    196.0|     205.94|12586900|        205.94|\n",
      "|    NYSE|        JNPR| 10/4/2000|    200.75|    211.63|    191.5|     207.95|11819100|        207.95|\n",
      "|    NYSE|        JNPR| 10/3/2000|    212.63|     215.0|    198.0|     201.44|13457300|        201.44|\n",
      "|    NYSE|        JNPR| 10/2/2000|    221.94|     224.0|    201.5|     206.13|10621700|        206.13|\n",
      "|    NYSE|        JNPR| 9/22/2000|    202.44|    225.94|   202.25|     225.64|12392300|        225.64|\n",
      "|    NYSE|        JNPR| 9/20/2000|    211.94|     223.5|    211.5|     220.06|12225300|        220.06|\n",
      "|    NYSE|        JNPR| 9/19/2000|    198.38|     213.0|   197.88|     209.92|13482800|        209.92|\n",
      "|    NYSE|        JNPR|  9/6/2000|    221.25|    221.63|   207.63|     209.69|15197300|        209.69|\n",
      "|    NYSE|        JNPR| 6/13/2000|    229.69|    239.06|   216.25|      237.0|12235000|         118.5|\n",
      "|    NYSE|        JNPR|  6/8/2000|    226.38|    242.56|    225.5|      238.0|13748200|         119.0|\n",
      "|    NYSE|        JNPR|  6/7/2000|    203.75|    225.44|    203.0|     224.69|11566000|        112.35|\n",
      "|    NYSE|        JNPR|  6/2/2000|     201.0|    216.88|    200.0|      214.5|10173400|        107.25|\n",
      "|    NYSE|        JNPR| 4/12/2000|    222.44|     230.0|   198.38|     204.13|12961600|        102.07|\n",
      "+--------+------------+----------+----------+----------+---------+-----------+--------+--------------+\n",
      "only showing top 20 rows\n",
      "\n"
     ]
    }
   ],
   "source": [
    "q1 = spark.sql(\"Select * from daily where close_price >= 200 and volume >= 10000000\")\n",
    "q1.show()"
   ]
  },
  {
   "cell_type": "markdown",
   "metadata": {},
   "source": [
    "### 2. List the companies that have given dividends more than 50 times. The list should include the number of times they have given dividends."
   ]
  },
  {
   "cell_type": "code",
   "execution_count": 14,
   "metadata": {},
   "outputs": [
    {
     "name": "stdout",
     "output_type": "stream",
     "text": [
      "+------------+-----+\n",
      "|stock_symbol|Count|\n",
      "+------------+-----+\n",
      "|         JCP|  114|\n",
      "|         JEF|   72|\n",
      "|         JPM|  104|\n",
      "|         JRO|   63|\n",
      "|         JFP|   58|\n",
      "|         JHI|   99|\n",
      "|         JNJ|  160|\n",
      "|         JHS|   88|\n",
      "|         JTP|   91|\n",
      "|         JOE|   51|\n",
      "|         JQC|   55|\n",
      "|         JHP|   85|\n",
      "|         JPS|   89|\n",
      "|         JPC|   60|\n",
      "|         JCI|   97|\n",
      "|         JFR|   68|\n",
      "|         JWN|   81|\n",
      "+------------+-----+\n",
      "\n"
     ]
    }
   ],
   "source": [
    "q2 = spark.sql(\"Select stock_symbol, count(*) AS Count from div group by stock_symbol\")\n",
    "q2.where(q2.Count>50).show()"
   ]
  },
  {
   "cell_type": "markdown",
   "metadata": {},
   "source": [
    "### 3.List the companies along with their close price, dividends and the date when they gave dividends of more than 0.01 when their daily close price was more than or equal to 100 sorted by dividends in ascending order."
   ]
  },
  {
   "cell_type": "code",
   "execution_count": 20,
   "metadata": {},
   "outputs": [
    {
     "name": "stdout",
     "output_type": "stream",
     "text": [
      "+------------+-----------+---------+\n",
      "|stock_symbol|close_price|dividends|\n",
      "+------------+-----------+---------+\n",
      "|         JNJ|     102.01|  0.01042|\n",
      "|         JNJ|     100.14|  0.01042|\n",
      "|         JNJ|     103.06|  0.01042|\n",
      "|         JNJ|     102.01|  0.01042|\n",
      "|         JNJ|     103.06|  0.01042|\n",
      "|         JNJ|      101.8|  0.01042|\n",
      "|         JNJ|     103.06|  0.01042|\n",
      "|         JNJ|      101.8|  0.01042|\n",
      "|         JNJ|     103.06|  0.01042|\n",
      "|         JNJ|      101.8|  0.01042|\n",
      "|         JNJ|     103.06|  0.01042|\n",
      "|         JNJ|      101.8|  0.01042|\n",
      "|         JNJ|      103.1|  0.01042|\n",
      "|         JNJ|     102.01|  0.01042|\n",
      "|         JNJ|      103.1|  0.01042|\n",
      "|         JNJ|     102.01|  0.01042|\n",
      "|         JNJ|      103.1|  0.01042|\n",
      "|         JNJ|     102.19|  0.01042|\n",
      "|         JNJ|     100.14|  0.01042|\n",
      "|         JNJ|     102.19|  0.01042|\n",
      "+------------+-----------+---------+\n",
      "only showing top 20 rows\n",
      "\n"
     ]
    }
   ],
   "source": [
    "q3 = spark.sql(\"Select daily.stock_symbol, close_price, dividends from daily JOIN div ON daily.stock_symbol = div.stock_symbol where dividends > 0.01 and close_price >= 100 ORDER BY dividends\")\n",
    "q3.show()"
   ]
  },
  {
   "cell_type": "code",
   "execution_count": 21,
   "metadata": {},
   "outputs": [
    {
     "data": {
      "text/plain": [
       "pyspark.sql.dataframe.DataFrame"
      ]
     },
     "execution_count": 21,
     "metadata": {},
     "output_type": "execute_result"
    }
   ],
   "source": [
    "type(q3)"
   ]
  },
  {
   "cell_type": "markdown",
   "metadata": {},
   "source": [
    "### 4. Save the above lists as comma separated files."
   ]
  },
  {
   "cell_type": "code",
   "execution_count": 24,
   "metadata": {},
   "outputs": [],
   "source": [
    "q1.write.csv('q1.csv')"
   ]
  },
  {
   "cell_type": "code",
   "execution_count": 25,
   "metadata": {},
   "outputs": [],
   "source": [
    "q2.write.csv('q2_csv')"
   ]
  },
  {
   "cell_type": "code",
   "execution_count": 23,
   "metadata": {},
   "outputs": [],
   "source": [
    "q3.write.csv('q3_csv')"
   ]
  }
 ],
 "metadata": {
  "kernelspec": {
   "display_name": "Python 3",
   "language": "python",
   "name": "python3"
  },
  "language_info": {
   "codemirror_mode": {
    "name": "ipython",
    "version": 3
   },
   "file_extension": ".py",
   "mimetype": "text/x-python",
   "name": "python",
   "nbconvert_exporter": "python",
   "pygments_lexer": "ipython3",
   "version": "3.5.2"
  }
 },
 "nbformat": 4,
 "nbformat_minor": 2
}
